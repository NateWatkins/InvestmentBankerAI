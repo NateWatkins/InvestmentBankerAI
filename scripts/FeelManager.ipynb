{
 "cells": [
  {
   "cell_type": "code",
   "execution_count": 46,
   "metadata": {},
   "outputs": [],
   "source": [
    "import sys\n",
    "import os\n",
    "import pandas as pd\n",
    "sys.path.append(\"/Users/natwat/Desktop/CPSC_Projects/InvBankAI/\")\n",
    "PROJECT_ROOT = \"/Users/natwat/Desktop/CPSC_Projects/InvBankAI/\""
   ]
  },
  {
   "cell_type": "code",
   "execution_count": 47,
   "metadata": {},
   "outputs": [
    {
     "name": "stderr",
     "output_type": "stream",
     "text": [
      "2025-07-14 15:11:24,120 [INFO] Using device: mps\n",
      "Device set to use mps:0\n",
      "2025-07-14 15:11:34,367 [INFO] Fetched 5 articles\n"
     ]
    }
   ],
   "source": [
    "%run /Users/natwat/Desktop/CPSC_Projects/INVBANKAI/scripts/FH_getSent.py"
   ]
  },
  {
   "cell_type": "code",
   "execution_count": 48,
   "metadata": {},
   "outputs": [
    {
     "name": "stdout",
     "output_type": "stream",
     "text": [
      "Saved raw data for TSLA → /Users/natwat/Desktop/CPSC_Projects/INVBANKAI/data/raw/TSLA_raw.csv\n",
      "Saved features for TSLA → /Users/natwat/Desktop/CPSC_Projects/INVBANKAI/data/features/TSLA_features.csv\n"
     ]
    },
    {
     "name": "stderr",
     "output_type": "stream",
     "text": [
      "/Users/natwat/Desktop/CPSC_Projects/INVBANKAI/scripts/compute_ema.py:25: UserWarning: Could not infer format, so each element will be parsed individually, falling back to `dateutil`. To ensure parsing is consistent and as-expected, please specify a format.\n",
      "  df = pd.read_csv(\n",
      "/Users/natwat/Desktop/CPSC_Projects/INVBANKAI/scripts/compute_ema.py:15: SettingWithCopyWarning: \n",
      "A value is trying to be set on a copy of a slice from a DataFrame.\n",
      "Try using .loc[row_indexer,col_indexer] = value instead\n",
      "\n",
      "See the caveats in the documentation: https://pandas.pydata.org/pandas-docs/stable/user_guide/indexing.html#returning-a-view-versus-a-copy\n",
      "  df[ema_col] = df['Close'].ewm(span=period, adjust=False).mean()\n"
     ]
    }
   ],
   "source": [
    "%run /Users/natwat/Desktop/CPSC_Projects/INVBANKAI/scripts/dowload_data.py\n",
    "%run /Users/natwat/Desktop/CPSC_Projects/INVBANKAI/scripts/compute_ema.py  ##---> This gives features.csv \n"
   ]
  },
  {
   "cell_type": "code",
   "execution_count": null,
   "metadata": {},
   "outputs": [],
   "source": "import sys\nimport os\n\n# Add project root to path for config import\nsys.path.append(os.path.dirname(os.path.dirname(os.path.abspath('__file__'))))\nfrom config import get_ticker, get_paths\n\nfrom combineSingleDB import load_and_aggregate_sentiment, full_incremental_merge, full_merge\n\n# Get paths from config\nPATHS = get_paths()\nsent_path = PATHS[\"sentiment_combined\"]\nprice_path = PATHS[\"features_csv\"]  # Must be minute-level\noutput_path = PATHS[\"features_full_csv\"]\narchive_path = PATHS[\"archive_csv\"]\n\n# Run full pipeline\nsentiment_df = load_and_aggregate_sentiment(sent_path, resample_interval=\"1min\")\nsentiment_df.tail()"
  },
  {
   "cell_type": "code",
   "execution_count": 50,
   "metadata": {},
   "outputs": [
    {
     "name": "stdout",
     "output_type": "stream",
     "text": [
      "✅ Saved merged data to /Users/natwat/Desktop/CPSC_Projects/InvBankAI/data/features/TSLA_features_full.csv\n"
     ]
    },
    {
     "data": {
      "text/html": [
       "<div>\n",
       "<style scoped>\n",
       "    .dataframe tbody tr th:only-of-type {\n",
       "        vertical-align: middle;\n",
       "    }\n",
       "\n",
       "    .dataframe tbody tr th {\n",
       "        vertical-align: top;\n",
       "    }\n",
       "\n",
       "    .dataframe thead th {\n",
       "        text-align: right;\n",
       "    }\n",
       "</style>\n",
       "<table border=\"1\" class=\"dataframe\">\n",
       "  <thead>\n",
       "    <tr style=\"text-align: right;\">\n",
       "      <th></th>\n",
       "      <th>Datetime</th>\n",
       "      <th>Close</th>\n",
       "      <th>High</th>\n",
       "      <th>Low</th>\n",
       "      <th>Open</th>\n",
       "      <th>Volume</th>\n",
       "      <th>EMA20</th>\n",
       "      <th>Prob_Pos_finbert</th>\n",
       "      <th>Prob_Neu_finbert</th>\n",
       "      <th>Prob_Neg_finbert</th>\n",
       "      <th>Prob_Pos_roberta</th>\n",
       "      <th>Prob_Neu_roberta</th>\n",
       "      <th>Prob_Neg_roberta</th>\n",
       "      <th>Prob_Pos_distilbert</th>\n",
       "      <th>Prob_Neu_distilbert</th>\n",
       "      <th>Prob_Neg_distilbert</th>\n",
       "      <th>Sentiment_Avg</th>\n",
       "      <th>Sentiment_Disagreement</th>\n",
       "      <th>Return</th>\n",
       "      <th>Label</th>\n",
       "    </tr>\n",
       "  </thead>\n",
       "  <tbody>\n",
       "    <tr>\n",
       "      <th>2317</th>\n",
       "      <td>2025-07-14 19:55:00+00:00</td>\n",
       "      <td>316.790009</td>\n",
       "      <td>317.000000</td>\n",
       "      <td>316.550110</td>\n",
       "      <td>316.750000</td>\n",
       "      <td>428902.0</td>\n",
       "      <td>316.435484</td>\n",
       "      <td>1.695669e-07</td>\n",
       "      <td>5.004997e-08</td>\n",
       "      <td>1.0</td>\n",
       "      <td>0.080077</td>\n",
       "      <td>0.910761</td>\n",
       "      <td>0.009162</td>\n",
       "      <td>0.99339</td>\n",
       "      <td>0.0</td>\n",
       "      <td>0.00661</td>\n",
       "      <td>0.357822</td>\n",
       "      <td>0.551872</td>\n",
       "      <td>-0.000316</td>\n",
       "      <td>0</td>\n",
       "    </tr>\n",
       "    <tr>\n",
       "      <th>2318</th>\n",
       "      <td>2025-07-14 19:56:00+00:00</td>\n",
       "      <td>316.690002</td>\n",
       "      <td>316.929901</td>\n",
       "      <td>316.589996</td>\n",
       "      <td>316.779999</td>\n",
       "      <td>260013.0</td>\n",
       "      <td>316.459724</td>\n",
       "      <td>1.695669e-07</td>\n",
       "      <td>5.004997e-08</td>\n",
       "      <td>1.0</td>\n",
       "      <td>0.080077</td>\n",
       "      <td>0.910761</td>\n",
       "      <td>0.009162</td>\n",
       "      <td>0.99339</td>\n",
       "      <td>0.0</td>\n",
       "      <td>0.00661</td>\n",
       "      <td>0.357822</td>\n",
       "      <td>0.551872</td>\n",
       "      <td>0.000469</td>\n",
       "      <td>1</td>\n",
       "    </tr>\n",
       "    <tr>\n",
       "      <th>2319</th>\n",
       "      <td>2025-07-14 19:57:00+00:00</td>\n",
       "      <td>316.838593</td>\n",
       "      <td>316.890015</td>\n",
       "      <td>316.690002</td>\n",
       "      <td>316.700012</td>\n",
       "      <td>284435.0</td>\n",
       "      <td>316.495807</td>\n",
       "      <td>1.695669e-07</td>\n",
       "      <td>5.004997e-08</td>\n",
       "      <td>1.0</td>\n",
       "      <td>0.080077</td>\n",
       "      <td>0.910761</td>\n",
       "      <td>0.009162</td>\n",
       "      <td>0.99339</td>\n",
       "      <td>0.0</td>\n",
       "      <td>0.00661</td>\n",
       "      <td>0.357822</td>\n",
       "      <td>0.551872</td>\n",
       "      <td>0.000762</td>\n",
       "      <td>1</td>\n",
       "    </tr>\n",
       "    <tr>\n",
       "      <th>2320</th>\n",
       "      <td>2025-07-14 19:58:00+00:00</td>\n",
       "      <td>317.079987</td>\n",
       "      <td>317.109985</td>\n",
       "      <td>316.820007</td>\n",
       "      <td>316.829987</td>\n",
       "      <td>486575.0</td>\n",
       "      <td>316.551443</td>\n",
       "      <td>1.695669e-07</td>\n",
       "      <td>5.004997e-08</td>\n",
       "      <td>1.0</td>\n",
       "      <td>0.080077</td>\n",
       "      <td>0.910761</td>\n",
       "      <td>0.009162</td>\n",
       "      <td>0.99339</td>\n",
       "      <td>0.0</td>\n",
       "      <td>0.00661</td>\n",
       "      <td>0.357822</td>\n",
       "      <td>0.551872</td>\n",
       "      <td>-0.000536</td>\n",
       "      <td>0</td>\n",
       "    </tr>\n",
       "    <tr>\n",
       "      <th>2321</th>\n",
       "      <td>2025-07-14 19:59:00+00:00</td>\n",
       "      <td>316.910004</td>\n",
       "      <td>317.269989</td>\n",
       "      <td>316.809998</td>\n",
       "      <td>317.079987</td>\n",
       "      <td>666850.0</td>\n",
       "      <td>316.585592</td>\n",
       "      <td>1.695669e-07</td>\n",
       "      <td>5.004997e-08</td>\n",
       "      <td>1.0</td>\n",
       "      <td>0.080077</td>\n",
       "      <td>0.910761</td>\n",
       "      <td>0.009162</td>\n",
       "      <td>0.99339</td>\n",
       "      <td>0.0</td>\n",
       "      <td>0.00661</td>\n",
       "      <td>0.357822</td>\n",
       "      <td>0.551872</td>\n",
       "      <td>NaN</td>\n",
       "      <td>0</td>\n",
       "    </tr>\n",
       "  </tbody>\n",
       "</table>\n",
       "</div>"
      ],
      "text/plain": [
       "                       Datetime       Close        High         Low  \\\n",
       "2317  2025-07-14 19:55:00+00:00  316.790009  317.000000  316.550110   \n",
       "2318  2025-07-14 19:56:00+00:00  316.690002  316.929901  316.589996   \n",
       "2319  2025-07-14 19:57:00+00:00  316.838593  316.890015  316.690002   \n",
       "2320  2025-07-14 19:58:00+00:00  317.079987  317.109985  316.820007   \n",
       "2321  2025-07-14 19:59:00+00:00  316.910004  317.269989  316.809998   \n",
       "\n",
       "            Open    Volume       EMA20  Prob_Pos_finbert  Prob_Neu_finbert  \\\n",
       "2317  316.750000  428902.0  316.435484      1.695669e-07      5.004997e-08   \n",
       "2318  316.779999  260013.0  316.459724      1.695669e-07      5.004997e-08   \n",
       "2319  316.700012  284435.0  316.495807      1.695669e-07      5.004997e-08   \n",
       "2320  316.829987  486575.0  316.551443      1.695669e-07      5.004997e-08   \n",
       "2321  317.079987  666850.0  316.585592      1.695669e-07      5.004997e-08   \n",
       "\n",
       "      Prob_Neg_finbert  Prob_Pos_roberta  Prob_Neu_roberta  Prob_Neg_roberta  \\\n",
       "2317               1.0          0.080077          0.910761          0.009162   \n",
       "2318               1.0          0.080077          0.910761          0.009162   \n",
       "2319               1.0          0.080077          0.910761          0.009162   \n",
       "2320               1.0          0.080077          0.910761          0.009162   \n",
       "2321               1.0          0.080077          0.910761          0.009162   \n",
       "\n",
       "      Prob_Pos_distilbert  Prob_Neu_distilbert  Prob_Neg_distilbert  \\\n",
       "2317              0.99339                  0.0              0.00661   \n",
       "2318              0.99339                  0.0              0.00661   \n",
       "2319              0.99339                  0.0              0.00661   \n",
       "2320              0.99339                  0.0              0.00661   \n",
       "2321              0.99339                  0.0              0.00661   \n",
       "\n",
       "      Sentiment_Avg  Sentiment_Disagreement    Return  Label  \n",
       "2317       0.357822                0.551872 -0.000316      0  \n",
       "2318       0.357822                0.551872  0.000469      1  \n",
       "2319       0.357822                0.551872  0.000762      1  \n",
       "2320       0.357822                0.551872 -0.000536      0  \n",
       "2321       0.357822                0.551872       NaN      0  "
      ]
     },
     "execution_count": 50,
     "metadata": {},
     "output_type": "execute_result"
    }
   ],
   "source": [
    "\n",
    "from combineSingleDB import full_merge\n",
    "# Get last timestamp in existing merged file\n",
    "if os.path.exists(price_path):\n",
    "    df = pd.read_csv(price_path, parse_dates=[\"Datetime\"])\n",
    "    last_ts = df[\"Datetime\"].max()\n",
    "    \n",
    "else:\n",
    "    last_ts = None\n",
    "\n",
    "# Run the updated merge\n",
    "full_merge(sentiment_df, price_path, output_path)\n",
    "# View output\n",
    "df = pd.read_csv(output_path)\n",
    "df.tail()"
   ]
  },
  {
   "cell_type": "code",
   "execution_count": null,
   "metadata": {},
   "outputs": [],
   "source": "import ta\n\n# Use path from config\ndf = pd.read_csv(PATHS[\"features_full_csv\"], parse_dates=[\"Datetime\"])\n\n# Add rolling indicators\ndf[\"SMA_50\"] = ta.trend.sma_indicator(df[\"Close\"], window=50)\ndf[\"RSI_14\"] = ta.momentum.RSIIndicator(df[\"Close\"], window=14).rsi()\ndf[\"MACD\"] = ta.trend.macd_diff(df[\"Close\"])\nvwap = ta.volume.VolumeWeightedAveragePrice(\n    high=df[\"High\"], low=df[\"Low\"], close=df[\"Close\"], volume=df[\"Volume\"]\n)\ndf[\"VWAP\"] = vwap.vwap  \ndf.tail()"
  },
  {
   "cell_type": "code",
   "execution_count": null,
   "metadata": {},
   "outputs": [],
   "source": "df[\"Return_1min\"] = df[\"Close\"].pct_change()\ndf[\"Volume_Change\"] = df[\"Volume\"].pct_change()\ndf[\"Price_Diff\"] = df[\"Close\"] - df[\"Open\"]\n\n# Use path from config\ndf.to_csv(PATHS[\"ready_csv\"], index=False)\ndf.tail()"
  },
  {
   "cell_type": "code",
   "execution_count": 53,
   "metadata": {},
   "outputs": [],
   "source": [
    "# Drop rows with NaN from rolling indicators\n",
    "df.dropna(inplace=True)\n",
    "\n",
    "# Define your input features\n",
    "feature_cols = [\n",
    "    \"Close\", \"High\", \"Low\", \"Open\", \"Volume\", \"EMA20\", \"SMA_50\", \"RSI_14\", \"MACD\", \"VWAP\",\n",
    "    \"Price_Diff\", \"Return_1min\", \"Volume_Change\",\n",
    "    \"Prob_Pos_distilbert\", \"Prob_Neu_distilbert\", \"Prob_Neg_distilbert\",\n",
    "    \"Prob_Pos_roberta\", \"Prob_Neu_roberta\", \"Prob_Neg_roberta\",\n",
    "    \"Prob_Pos_finbert\", \"Prob_Neu_finbert\", \"Prob_Neg_finbert\",\n",
    "    \"Sentiment_Avg\", \"Sentiment_Disagreement\"\n",
    "]\n",
    "\n",
    "# Your label (used later for evaluation, not part of input state)\n",
    "label_col = \"Label\""
   ]
  },
  {
   "cell_type": "markdown",
   "metadata": {},
   "source": []
  },
  {
   "cell_type": "code",
   "execution_count": 55,
   "metadata": {},
   "outputs": [
    {
     "ename": "TypeError",
     "evalue": "concat() got an unexpected keyword argument 'parse_dates'",
     "output_type": "error",
     "traceback": [
      "\u001b[0;31m---------------------------------------------------------------------------\u001b[0m",
      "\u001b[0;31mTypeError\u001b[0m                                 Traceback (most recent call last)",
      "Cell \u001b[0;32mIn[55], line 1\u001b[0m\n\u001b[0;32m----> 1\u001b[0m arch_df \u001b[39m=\u001b[39m pd\u001b[39m.\u001b[39;49mconcat(df, pd\u001b[39m.\u001b[39;49mread_csv(archive_path),parse_dates \u001b[39m=\u001b[39;49m [\u001b[39m\"\u001b[39;49m\u001b[39mDatetime\u001b[39;49m\u001b[39m\"\u001b[39;49m], ignore_index\u001b[39m=\u001b[39;49m\u001b[39mTrue\u001b[39;49;00m)\n\u001b[1;32m      3\u001b[0m arch_df\u001b[39m.\u001b[39mtail()\n",
      "\u001b[0;31mTypeError\u001b[0m: concat() got an unexpected keyword argument 'parse_dates'"
     ]
    }
   ],
   "source": [
    "arch_df = pd.concat(df, pd.read_csv(archive_path, parse_dates = [\"Datetime\"]), ignore_index=True)\n",
    "\n",
    "arch_df.tail()"
   ]
  },
  {
   "cell_type": "code",
   "execution_count": null,
   "metadata": {},
   "outputs": [],
   "source": []
  }
 ],
 "metadata": {
  "kernelspec": {
   "display_name": "Python 3",
   "language": "python",
   "name": "python3"
  },
  "language_info": {
   "codemirror_mode": {
    "name": "ipython",
    "version": 3
   },
   "file_extension": ".py",
   "mimetype": "text/x-python",
   "name": "python",
   "nbconvert_exporter": "python",
   "pygments_lexer": "ipython3",
   "version": "3.9.6"
  },
  "orig_nbformat": 4
 },
 "nbformat": 4,
 "nbformat_minor": 2
}