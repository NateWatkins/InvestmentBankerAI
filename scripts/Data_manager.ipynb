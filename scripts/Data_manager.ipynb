{
 "cells": [
  {
   "cell_type": "code",
   "execution_count": 1,
   "metadata": {
    "execution": {
     "iopub.execute_input": "2025-06-16T20:09:59.974191Z",
     "iopub.status.busy": "2025-06-16T20:09:59.973674Z",
     "iopub.status.idle": "2025-06-16T20:10:00.291257Z",
     "shell.execute_reply": "2025-06-16T20:10:00.290899Z"
    }
   },
   "outputs": [],
   "source": [
    "import sys\n",
    "import os\n",
    "import pandas as pd\n",
    "PROJECT_ROOT = \"/Users/natwat/Desktop/CPSC_Projects/INVBANKAI\"\n",
    "RAW_DIR = os.path.join(PROJECT_ROOT, 'data', 'raw')"
   ]
  },
  {
   "cell_type": "code",
   "execution_count": 2,
   "metadata": {
    "execution": {
     "iopub.execute_input": "2025-06-16T20:10:00.292955Z",
     "iopub.status.busy": "2025-06-16T20:10:00.292799Z",
     "iopub.status.idle": "2025-06-16T20:10:00.436263Z",
     "shell.execute_reply": "2025-06-16T20:10:00.436001Z"
    }
   },
   "outputs": [],
   "source": [
    "import sys\n",
    "sys.path.append(\"/Users/natwat/Desktop/CPSC_Projects/INVBANKAI/scripts\")\n",
    "\n",
    "from dowload_data import download_1min_bars\n",
    "from compute_ema import compute_ema\n",
    "from combineSingleDB import load_and_aggregate_sentiment \n",
    "from aggregate_sent import aggregate_sentiment_by_minute"
   ]
  },
  {
   "cell_type": "code",
   "execution_count": 3,
   "metadata": {
    "execution": {
     "iopub.execute_input": "2025-06-16T20:10:00.437754Z",
     "iopub.status.busy": "2025-06-16T20:10:00.437608Z",
     "iopub.status.idle": "2025-06-16T20:10:17.447769Z",
     "shell.execute_reply": "2025-06-16T20:10:17.446403Z"
    }
   },
   "outputs": [
    {
     "name": "stderr",
     "output_type": "stream",
     "text": [
      "2025-07-12 18:05:51,337 [INFO] Using device: mps\n",
      "Device set to use mps:0\n",
      "2025-07-12 18:05:55,563 [INFO] Fetched 5 articles\n"
     ]
    }
   ],
   "source": [
    "%run /Users/natwat/Desktop/CPSC_Projects/INVBANKAI/scripts/FH_getSent.py\n"
   ]
  },
  {
   "cell_type": "code",
   "execution_count": 4,
   "metadata": {
    "execution": {
     "iopub.execute_input": "2025-06-16T20:10:17.458918Z",
     "iopub.status.busy": "2025-06-16T20:10:17.458735Z",
     "iopub.status.idle": "2025-06-16T20:10:18.385076Z",
     "shell.execute_reply": "2025-06-16T20:10:18.384604Z"
    }
   },
   "outputs": [
    {
     "name": "stdout",
     "output_type": "stream",
     "text": [
      "YF.download() has changed argument auto_adjust default to True\n",
      "Saved raw data for TSLA → /Users/natwat/Desktop/CPSC_Projects/INVBANKAI/data/raw/TSLA_raw.csv\n",
      "Saved features for TSLA → /Users/natwat/Desktop/CPSC_Projects/INVBANKAI/data/features/TSLA_features.csv\n",
      "✅ Saved merged data to /Users/natwat/Desktop/CPSC_Projects/InvBankAI/data/features/TSLA_features_full.csv\n"
     ]
    },
    {
     "name": "stderr",
     "output_type": "stream",
     "text": [
      "/Users/natwat/Desktop/CPSC_Projects/INVBANKAI/scripts/compute_ema.py:25: UserWarning: Could not infer format, so each element will be parsed individually, falling back to `dateutil`. To ensure parsing is consistent and as-expected, please specify a format.\n",
      "  df = pd.read_csv(\n",
      "/Users/natwat/Desktop/CPSC_Projects/INVBANKAI/scripts/compute_ema.py:15: SettingWithCopyWarning: \n",
      "A value is trying to be set on a copy of a slice from a DataFrame.\n",
      "Try using .loc[row_indexer,col_indexer] = value instead\n",
      "\n",
      "See the caveats in the documentation: https://pandas.pydata.org/pandas-docs/stable/user_guide/indexing.html#returning-a-view-versus-a-copy\n",
      "  df[ema_col] = df['Close'].ewm(span=period, adjust=False).mean()\n"
     ]
    }
   ],
   "source": [
    "%run /Users/natwat/Desktop/CPSC_Projects/INVBANKAI/scripts/dowload_data.py\n",
    "%run /Users/natwat/Desktop/CPSC_Projects/INVBANKAI/scripts/compute_ema.py  ##---> This gives features.csv \n",
    "%run /Users/natwat/Desktop/CPSC_Projects/INVBANKAI/scripts/FeelManager.ipynb\n"
   ]
  },
  {
   "cell_type": "code",
   "execution_count": 5,
   "metadata": {},
   "outputs": [
    {
     "name": "stdout",
     "output_type": "stream",
     "text": [
      "Volume_Change             0.085916\n",
      "Return_1min               0.083979\n",
      "Price_Diff                0.083325\n",
      "MACD                      0.081551\n",
      "Volume                    0.077988\n",
      "RSI_14                    0.076753\n",
      "SMA_50                    0.067023\n",
      "VWAP                      0.066303\n",
      "Open                      0.066050\n",
      "EMA20                     0.064196\n",
      "Close                     0.063897\n",
      "Low                       0.061657\n",
      "High                      0.060158\n",
      "Prob_Neg_distilbert       0.007004\n",
      "Sentiment_Avg             0.006622\n",
      "Sentiment_Disagreement    0.006379\n",
      "Prob_Neg_finbert          0.006198\n",
      "Prob_Pos_distilbert       0.006134\n",
      "Prob_Neu_roberta          0.006060\n",
      "Prob_Pos_roberta          0.005957\n",
      "Prob_Neg_roberta          0.005832\n",
      "Prob_Neu_finbert          0.005666\n",
      "Prob_Pos_finbert          0.005352\n",
      "Prob_Neu_distilbert       0.000000\n",
      "dtype: float64\n"
     ]
    }
   ],
   "source": []
  }
 ],
 "metadata": {
  "kernelspec": {
   "display_name": "Python 3",
   "language": "python",
   "name": "python3"
  },
  "language_info": {
   "codemirror_mode": {
    "name": "ipython",
    "version": 3
   },
   "file_extension": ".py",
   "mimetype": "text/x-python",
   "name": "python",
   "nbconvert_exporter": "python",
   "pygments_lexer": "ipython3",
   "version": "3.9.6"
  }
 },
 "nbformat": 4,
 "nbformat_minor": 2
}
