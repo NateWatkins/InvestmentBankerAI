{
 "cells": [
  {
   "cell_type": "code",
   "execution_count": 61,
   "metadata": {},
   "outputs": [],
   "source": [
    "import sys\n",
    "import os\n",
    "import pandas as pd\n",
    "PROJECT_ROOT = \"/Users/natwat/Desktop/CPSC_Projects/Trader\"\n",
    "RAW_DIR = os.path.join(PROJECT_ROOT, 'data', 'raw')"
   ]
  },
  {
   "cell_type": "code",
   "execution_count": 62,
   "metadata": {},
   "outputs": [],
   "source": [
    "from dowload_data import download_1min_bars\n",
    "from data_pipeline import load_trading_dataframe\n",
    "from combineSingleDB import load_and_aggregate_sentiment \n",
    "from compute_ema import compute_ema\n"
   ]
  },
  {
   "cell_type": "code",
   "execution_count": 68,
   "metadata": {},
   "outputs": [
    {
     "name": "stdout",
     "output_type": "stream",
     "text": [
      "Saved raw data for TSLA → /Users/natwat/Desktop/CPSC_Projects/Trader/data/raw/TSLA_raw.csv\n",
      "Saved features for TSLA → /Users/natwat/Desktop/CPSC_Projects/Trader/data/features/TSLA_features.csv\n"
     ]
    },
    {
     "name": "stderr",
     "output_type": "stream",
     "text": [
      "/Users/natwat/Desktop/CPSC_Projects/Trader/scripts/compute_ema.py:25: FutureWarning: The argument 'infer_datetime_format' is deprecated and will be removed in a future version. A strict version of it is now the default, see https://pandas.pydata.org/pdeps/0004-consistent-to-datetime-parsing.html. You can safely remove this argument.\n",
      "  df = pd.read_csv(\n",
      "/Users/natwat/Desktop/CPSC_Projects/Trader/scripts/compute_ema.py:25: UserWarning: Could not infer format, so each element will be parsed individually, falling back to `dateutil`. To ensure parsing is consistent and as-expected, please specify a format.\n",
      "  df = pd.read_csv(\n",
      "/Users/natwat/Desktop/CPSC_Projects/Trader/scripts/compute_ema.py:15: SettingWithCopyWarning: \n",
      "A value is trying to be set on a copy of a slice from a DataFrame.\n",
      "Try using .loc[row_indexer,col_indexer] = value instead\n",
      "\n",
      "See the caveats in the documentation: https://pandas.pydata.org/pandas-docs/stable/user_guide/indexing.html#returning-a-view-versus-a-copy\n",
      "  df[ema_col] = df['Close'].ewm(span=period, adjust=False).mean()\n"
     ]
    }
   ],
   "source": [
    "%run /Users/natwat/Desktop/CPSC_Projects/Trader/scripts/dowload_data.py\n",
    "%run /Users/natwat/Desktop/CPSC_Projects/Trader/scripts/data_pipeline.py\n",
    "%run /Users/natwat/Desktop/CPSC_Projects/Trader/scripts/compute_ema.py\n",
    "%run /Users/natwat/Desktop/CPSC_Projects/Trader/scripts/FeelManager.ipynb\n"
   ]
  }
 ],
 "metadata": {
  "kernelspec": {
   "display_name": "Python 3",
   "language": "python",
   "name": "python3"
  },
  "language_info": {
   "codemirror_mode": {
    "name": "ipython",
    "version": 3
   },
   "file_extension": ".py",
   "mimetype": "text/x-python",
   "name": "python",
   "nbconvert_exporter": "python",
   "pygments_lexer": "ipython3",
   "version": "3.9.6"
  },
  "orig_nbformat": 4
 },
 "nbformat": 4,
 "nbformat_minor": 2
}
