{
 "cells": [
  {
   "cell_type": "code",
   "execution_count": 18,
   "metadata": {
    "execution": {
     "iopub.execute_input": "2025-06-16T20:09:59.974191Z",
     "iopub.status.busy": "2025-06-16T20:09:59.973674Z",
     "iopub.status.idle": "2025-06-16T20:10:00.291257Z",
     "shell.execute_reply": "2025-06-16T20:10:00.290899Z"
    }
   },
   "outputs": [],
   "source": [
    "import sys\n",
    "import os\n",
    "import pandas as pd\n",
    "PROJECT_ROOT = \"/Users/natwat/Desktop/CPSC_Projects/INVBANKAI\"\n",
    "RAW_DIR = os.path.join(PROJECT_ROOT, 'data', 'raw')"
   ]
  },
  {
   "cell_type": "code",
   "execution_count": 19,
   "metadata": {
    "execution": {
     "iopub.execute_input": "2025-06-16T20:10:00.292955Z",
     "iopub.status.busy": "2025-06-16T20:10:00.292799Z",
     "iopub.status.idle": "2025-06-16T20:10:00.436263Z",
     "shell.execute_reply": "2025-06-16T20:10:00.436001Z"
    }
   },
   "outputs": [],
   "source": [
    "import sys\n",
    "sys.path.append(\"/Users/natwat/Desktop/CPSC_Projects/INVBANKAI/scripts\")\n",
    "\n",
    "from dowload_data import download_1min_bars\n",
    "from compute_ema import compute_ema\n",
    "from combineSingleDB import load_and_aggregate_sentiment \n",
    "from aggregate_sent import aggregate_sentiment_by_minute"
   ]
  },
  {
   "cell_type": "code",
   "execution_count": 20,
   "metadata": {
    "execution": {
     "iopub.execute_input": "2025-06-16T20:10:00.437754Z",
     "iopub.status.busy": "2025-06-16T20:10:00.437608Z",
     "iopub.status.idle": "2025-06-16T20:10:17.447769Z",
     "shell.execute_reply": "2025-06-16T20:10:17.446403Z"
    }
   },
   "outputs": [
    {
     "name": "stderr",
     "output_type": "stream",
     "text": [
      "2025-07-14 14:29:57,850 [INFO] Using device: mps\n",
      "Device set to use mps:0\n",
      "2025-07-14 14:30:10,821 [INFO] Fetched 11 articles\n",
      "2025-07-14 14:30:12,542 [INFO] Saved 38 sentiment entries (including existing) to data/news/TSLA_sentiment_combined.csv\n"
     ]
    }
   ],
   "source": [
    "%run /Users/natwat/Desktop/CPSC_Projects/INVBANKAI/scripts/FH_getSent.py\n"
   ]
  },
  {
   "cell_type": "code",
   "execution_count": 21,
   "metadata": {
    "execution": {
     "iopub.execute_input": "2025-06-16T20:10:17.458918Z",
     "iopub.status.busy": "2025-06-16T20:10:17.458735Z",
     "iopub.status.idle": "2025-06-16T20:10:18.385076Z",
     "shell.execute_reply": "2025-06-16T20:10:18.384604Z"
    }
   },
   "outputs": [
    {
     "name": "stderr",
     "output_type": "stream",
     "text": [
      "2025-07-14 14:30:13,267 [ERROR] \n",
      "1 Failed download:\n",
      "2025-07-14 14:30:13,270 [ERROR] ['TSLA']: YFPricesMissingError('possibly delisted; no price data found  (1m 2025-07-06 -> 2025-07-15) (Yahoo error = \"1m data not available for startTime=1751774400 and endTime=1752528513. Only 8 days worth of 1m granularity data are allowed to be fetched per request.\")')\n"
     ]
    },
    {
     "name": "stdout",
     "output_type": "stream",
     "text": [
      "Saved raw data for TSLA → /Users/natwat/Desktop/CPSC_Projects/INVBANKAI/data/raw/TSLA_raw.csv\n",
      "Saved features for TSLA → /Users/natwat/Desktop/CPSC_Projects/INVBANKAI/data/features/TSLA_features.csv\n",
      "⏸️ No new price data to merge.\n"
     ]
    }
   ],
   "source": [
    "%run /Users/natwat/Desktop/CPSC_Projects/INVBANKAI/scripts/dowload_data.py\n",
    "%run /Users/natwat/Desktop/CPSC_Projects/INVBANKAI/scripts/compute_ema.py  ##---> This gives features.csv \n",
    "%run /Users/natwat/Desktop/CPSC_Projects/INVBANKAI/scripts/FeelManager.ipynb ##---> Gives ready.csv\n"
   ]
  },
  {
   "cell_type": "code",
   "execution_count": null,
   "metadata": {},
   "outputs": [],
   "source": []
  }
 ],
 "metadata": {
  "kernelspec": {
   "display_name": "Python 3",
   "language": "python",
   "name": "python3"
  },
  "language_info": {
   "codemirror_mode": {
    "name": "ipython",
    "version": 3
   },
   "file_extension": ".py",
   "mimetype": "text/x-python",
   "name": "python",
   "nbconvert_exporter": "python",
   "pygments_lexer": "ipython3",
   "version": "3.9.6"
  }
 },
 "nbformat": 4,
 "nbformat_minor": 2
}
