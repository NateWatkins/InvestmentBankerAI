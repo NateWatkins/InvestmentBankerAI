{
 "cells": [
  {
   "cell_type": "code",
   "execution_count": 54,
   "metadata": {
    "execution": {
     "iopub.execute_input": "2025-06-16T20:09:59.974191Z",
     "iopub.status.busy": "2025-06-16T20:09:59.973674Z",
     "iopub.status.idle": "2025-06-16T20:10:00.291257Z",
     "shell.execute_reply": "2025-06-16T20:10:00.290899Z"
    }
   },
   "outputs": [],
   "source": [
    "import sys\n",
    "import os\n",
    "import pandas as pd\n",
    "\n",
    "# Add project root to path for config import\n",
    "sys.path.append(os.path.dirname(os.path.dirname(os.path.abspath('__file__'))))\n",
    "from config import get_ticker, get_paths, Config\n",
    "\n",
    "# Get current configuration\n",
    "TICKER = get_ticker()\n",
    "PATHS = get_paths()\n",
    "PROJECT_ROOT = Config.PROJECT_ROOT\n",
    "RAW_DIR = os.path.dirname(PATHS[\"raw_csv\"])"
   ]
  },
  {
   "cell_type": "code",
   "execution_count": 55,
   "metadata": {
    "execution": {
     "iopub.execute_input": "2025-06-16T20:10:00.292955Z",
     "iopub.status.busy": "2025-06-16T20:10:00.292799Z",
     "iopub.status.idle": "2025-06-16T20:10:00.436263Z",
     "shell.execute_reply": "2025-06-16T20:10:00.436001Z"
    }
   },
   "outputs": [],
   "source": [
    "import sys\n",
    "sys.path.append(os.path.join(PROJECT_ROOT, \"scripts\"))\n",
    "\n",
    "from dowload_data import download_1min_bars\n",
    "from compute_ema import compute_ema\n",
    "from combineSingleDB import load_and_aggregate_sentiment \n",
    "from aggregate_sent import aggregate_sentiment_by_minute"
   ]
  },
  {
   "cell_type": "code",
   "execution_count": 56,
   "metadata": {},
   "outputs": [
    {
     "name": "stderr",
     "output_type": "stream",
     "text": [
      "/Users/natwat/Desktop/CPSC_Projects/InvBankAI/scripts/compute_ema.py:52: UserWarning: Could not infer format, so each element will be parsed individually, falling back to `dateutil`. To ensure parsing is consistent and as-expected, please specify a format.\n",
      "  df = pd.read_csv(\n",
      "/Users/natwat/Desktop/CPSC_Projects/InvBankAI/scripts/compute_ema.py:26: SettingWithCopyWarning: \n",
      "A value is trying to be set on a copy of a slice from a DataFrame.\n",
      "Try using .loc[row_indexer,col_indexer] = value instead\n",
      "\n",
      "See the caveats in the documentation: https://pandas.pydata.org/pandas-docs/stable/user_guide/indexing.html#returning-a-view-versus-a-copy\n",
      "  df[ema_col] = df['Close'].ewm(span=period, adjust=False).mean()\n",
      "2025-07-15 12:04:47,647 [INFO] Using device: mps\n"
     ]
    },
    {
     "name": "stdout",
     "output_type": "stream",
     "text": [
      "Saved raw data for TSLA → /Users/natwat/Desktop/CPSC_Projects/InvBankAI/data/raw/TSLA_raw.csv\n",
      "📁 Archive folder ready: archive/TSLA/2025-07-15\n",
      "✅ Archived successfully!\n",
      "   Original: /Users/natwat/Desktop/CPSC_Projects/InvBankAI/data/raw/TSLA_raw.csv\n",
      "   Archive:  archive/TSLA/2025-07-15/TSLA_raw_12-04-47.csv\n",
      "Saved features for TSLA → /Users/natwat/Desktop/CPSC_Projects/InvBankAI/data/features/TSLA_features.csv\n",
      "📁 Archive folder ready: archive/TSLA/2025-07-15\n",
      "✅ Archived successfully!\n",
      "   Original: /Users/natwat/Desktop/CPSC_Projects/InvBankAI/data/features/TSLA_features.csv\n",
      "   Archive:  archive/TSLA/2025-07-15/TSLA_features_12-04-47.csv\n",
      "✅ Loaded environment variables from /Users/natwat/Desktop/CPSC_Projects/InvBankAI/env/.env\n",
      "🔑 API Key Status:\n",
      "   Polygon API: ✅ Available\n",
      "   NewsAPI: ✅ Available\n",
      "   Alpha Vantage: ✅ Available\n",
      "   FMP: ✅ Available\n",
      "   Twitter: ✅ Available\n",
      "   Reddit: ✅ Available\n"
     ]
    },
    {
     "name": "stderr",
     "output_type": "stream",
     "text": [
      "Device set to use mps:0\n",
      "2025-07-15 12:04:56,690 [INFO] Starting sentiment analysis in Enhanced mode\n",
      "2025-07-15 12:04:56,698 [INFO] Sources: ['all']\n",
      "2025-07-15 12:04:56,704 [INFO] Fetching sentiment data for TSLA from 2025-07-15 07:00:01+00:00 to 2025-07-15 19:04:00+00:00\n",
      "2025-07-15 12:04:56,705 [INFO] Fetching from Polygon...\n",
      "2025-07-15 12:04:57,265 [INFO] Fetched 2 articles from Polygon\n",
      "2025-07-15 12:04:57,267 [INFO] Fetching from NewsAPI...\n",
      "2025-07-15 12:04:57,901 [INFO] Fetched 0 articles from NewsAPI\n",
      "2025-07-15 12:04:57,903 [INFO] Fetching from Alpha Vantage...\n",
      "2025-07-15 12:04:58,245 [INFO] Fetched 50 articles from Alpha Vantage\n",
      "2025-07-15 12:04:58,245 [INFO] Fetching from FMP...\n",
      "2025-07-15 12:04:58,814 [ERROR] FMP error: 401\n",
      "2025-07-15 12:04:58,815 [INFO] Fetching from Twitter...\n",
      "2025-07-15 12:04:58,937 [WARNING] Twitter query error for '$TSLA lang:en -is:retweet': 401 Unauthorized\n",
      "Unauthorized\n",
      "2025-07-15 12:04:58,985 [WARNING] Twitter query error for '\"Tesla, Inc.\" stock lang:en -is:retweet': 401 Unauthorized\n",
      "Unauthorized\n",
      "2025-07-15 12:04:59,032 [WARNING] Twitter query error for '\"Tesla, Inc.\" share lang:en -is:retweet': 401 Unauthorized\n",
      "Unauthorized\n",
      "2025-07-15 12:04:59,032 [INFO] Fetched 0 tweets\n",
      "2025-07-15 12:04:59,033 [INFO] Fetching from Reddit...\n",
      "2025-07-15 12:05:33,486 [INFO] Fetched 2 Reddit posts/comments\n",
      "2025-07-15 12:05:33,490 [INFO] Total items collected: 54\n",
      "2025-07-15 12:05:33,495 [INFO] Deduplicated 54 -> 54 articles\n",
      "2025-07-15 12:05:39,280 [INFO] Saved 91 sentiment entries (including existing) to /Users/natwat/Desktop/CPSC_Projects/InvBankAI/data/news/TSLA_sentiment_combined.csv\n",
      "2025-07-15 12:05:39,282 [INFO] Average sentiment score: -0.347\n",
      "2025-07-15 12:05:39,282 [INFO] Average sentiment velocity (1h): nan\n"
     ]
    },
    {
     "name": "stdout",
     "output_type": "stream",
     "text": [
      "📁 Archive folder ready: archive/TSLA/2025-07-15\n",
      "✅ Archived successfully!\n",
      "   Original: /Users/natwat/Desktop/CPSC_Projects/InvBankAI/data/news/TSLA_sentiment_combined.csv\n",
      "   Archive:  archive/TSLA/2025-07-15/TSLA_sentiment_combined_12-05-39.csv\n"
     ]
    }
   ],
   "source": [
    "%run $PROJECT_ROOT/scripts/dowload_data.py --ticker TSLA\n",
    "%run $PROJECT_ROOT/scripts/compute_ema.py --ticker TSLA\n",
    "%run $PROJECT_ROOT/scripts/FH_getSent.py --ticker TSLA"
   ]
  }
 ],
 "metadata": {
  "kernelspec": {
   "display_name": "Python 3",
   "language": "python",
   "name": "python3"
  },
  "language_info": {
   "codemirror_mode": {
    "name": "ipython",
    "version": 3
   },
   "file_extension": ".py",
   "mimetype": "text/x-python",
   "name": "python",
   "nbconvert_exporter": "python",
   "pygments_lexer": "ipython3",
   "version": "3.9.6"
  }
 },
 "nbformat": 4,
 "nbformat_minor": 2
}
