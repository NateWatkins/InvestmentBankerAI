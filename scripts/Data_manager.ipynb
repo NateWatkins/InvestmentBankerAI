{
 "cells": [
  {
   "cell_type": "code",
   "execution_count": 1,
   "metadata": {
    "execution": {
     "iopub.execute_input": "2025-06-16T20:09:59.974191Z",
     "iopub.status.busy": "2025-06-16T20:09:59.973674Z",
     "iopub.status.idle": "2025-06-16T20:10:00.291257Z",
     "shell.execute_reply": "2025-06-16T20:10:00.290899Z"
    }
   },
   "outputs": [],
   "source": [
    "import sys\n",
    "import os\n",
    "import pandas as pd\n",
    "PROJECT_ROOT = \"/Users/natwat/Desktop/CPSC_Projects/Trader\"\n",
    "RAW_DIR = os.path.join(PROJECT_ROOT, 'data', 'raw')"
   ]
  },
  {
   "cell_type": "code",
   "execution_count": 2,
   "metadata": {
    "execution": {
     "iopub.execute_input": "2025-06-16T20:10:00.292955Z",
     "iopub.status.busy": "2025-06-16T20:10:00.292799Z",
     "iopub.status.idle": "2025-06-16T20:10:00.436263Z",
     "shell.execute_reply": "2025-06-16T20:10:00.436001Z"
    }
   },
   "outputs": [],
   "source": [
    "import sys\n",
    "sys.path.append(\"/Users/natwat/Desktop/CPSC_Projects/Trader/scripts\")\n",
    "\n",
    "from dowload_data import download_1min_bars\n",
    "from data_pipeline import load_trading_dataframe\n",
    "from combineSingleDB import load_and_aggregate_sentiment \n",
    "from compute_ema import compute_ema\n",
    "from aggregate_sent import aggregate_sentiment_by_minute\n",
    "\n"
   ]
  },
  {
   "cell_type": "code",
   "execution_count": 5,
   "metadata": {
    "execution": {
     "iopub.execute_input": "2025-06-16T20:10:00.437754Z",
     "iopub.status.busy": "2025-06-16T20:10:00.437608Z",
     "iopub.status.idle": "2025-06-16T20:10:17.447769Z",
     "shell.execute_reply": "2025-06-16T20:10:17.446403Z"
    }
   },
   "outputs": [
    {
     "name": "stderr",
     "output_type": "stream",
     "text": [
      "Device set to use mps:0\n",
      "Asking to truncate to max_length but no maximum length is provided and the model has no predefined maximum length. Default to no truncation.\n",
      "Asking to truncate to max_length but no maximum length is provided and the model has no predefined maximum length. Default to no truncation.\n"
     ]
    },
    {
     "name": "stdout",
     "output_type": "stream",
     "text": [
      "✅ Saved 144 averaged sentiment entries to data/news/TSLA_sentiment_combined.csv\n"
     ]
    }
   ],
   "source": [
    "%run /Users/natwat/Desktop/CPSC_Projects/Trader/scripts/FH_getSent.py\n"
   ]
  },
  {
   "cell_type": "code",
   "execution_count": 7,
   "metadata": {
    "execution": {
     "iopub.execute_input": "2025-06-16T20:10:17.458918Z",
     "iopub.status.busy": "2025-06-16T20:10:17.458735Z",
     "iopub.status.idle": "2025-06-16T20:10:18.385076Z",
     "shell.execute_reply": "2025-06-16T20:10:18.384604Z"
    }
   },
   "outputs": [
    {
     "name": "stdout",
     "output_type": "stream",
     "text": [
      "Saved raw data for TSLA → /Users/natwat/Desktop/CPSC_Projects/Trader/data/raw/TSLA_raw.csv\n",
      "Saved features for TSLA → /Users/natwat/Desktop/CPSC_Projects/Trader/data/features/TSLA_features.csv\n",
      "⏸️ No new price data to merge.\n"
     ]
    },
    {
     "name": "stderr",
     "output_type": "stream",
     "text": [
      "/Users/natwat/Desktop/CPSC_Projects/Trader/scripts/compute_ema.py:25: UserWarning: Could not infer format, so each element will be parsed individually, falling back to `dateutil`. To ensure parsing is consistent and as-expected, please specify a format.\n",
      "  df = pd.read_csv(\n",
      "/Users/natwat/Desktop/CPSC_Projects/Trader/scripts/compute_ema.py:15: SettingWithCopyWarning: \n",
      "A value is trying to be set on a copy of a slice from a DataFrame.\n",
      "Try using .loc[row_indexer,col_indexer] = value instead\n",
      "\n",
      "See the caveats in the documentation: https://pandas.pydata.org/pandas-docs/stable/user_guide/indexing.html#returning-a-view-versus-a-copy\n",
      "  df[ema_col] = df['Close'].ewm(span=period, adjust=False).mean()\n"
     ]
    },
    {
     "ename": "ValueError",
     "evalue": "Neither `start` nor `end` can be NaT",
     "output_type": "error",
     "traceback": [
      "\u001b[0;31m---------------------------------------------------------------------------\u001b[0m",
      "\u001b[0;31mValueError\u001b[0m                                Traceback (most recent call last)",
      "File \u001b[0;32m/var/folders/d8/thlb33gs6m703zd_wdqqkmlr0000gn/T/ipykernel_77231/3991607127.py:10\u001b[0m\n\u001b[1;32m      7\u001b[0m     last_ts \u001b[39m=\u001b[39m \u001b[39mNone\u001b[39;00m\n\u001b[1;32m      9\u001b[0m \u001b[39m# Run the updated merge\u001b[39;00m\n\u001b[0;32m---> 10\u001b[0m merge_with_price_incremental(sentiment_df, price_path, output_path, last_timestamp\u001b[39m=\u001b[39;49mlast_ts)\n\u001b[1;32m     12\u001b[0m \u001b[39m# View output\u001b[39;00m\n\u001b[1;32m     13\u001b[0m df \u001b[39m=\u001b[39m pd\u001b[39m.\u001b[39mread_csv(output_path)\n",
      "File \u001b[0;32m~/Desktop/CPSC_Projects/Trader/scripts/combineSingleDB.py:102\u001b[0m, in \u001b[0;36mmerge_with_price_incremental\u001b[0;34m(sentiment_df, price_path, output_path, last_timestamp)\u001b[0m\n\u001b[1;32m     99\u001b[0m     \u001b[39mprint\u001b[39m(\u001b[39m\"\u001b[39m\u001b[39m⏸️ No new price data to merge.\u001b[39m\u001b[39m\"\u001b[39m)\n\u001b[1;32m    101\u001b[0m     \u001b[39m# Create full timestamp range based on price_df\u001b[39;00m\n\u001b[0;32m--> 102\u001b[0m full_range \u001b[39m=\u001b[39m pd\u001b[39m.\u001b[39;49mdate_range(start\u001b[39m=\u001b[39;49mprice_df[\u001b[39m\"\u001b[39;49m\u001b[39mDatetime\u001b[39;49m\u001b[39m\"\u001b[39;49m]\u001b[39m.\u001b[39;49mmin(),\n\u001b[1;32m    103\u001b[0m                         end\u001b[39m=\u001b[39;49mprice_df[\u001b[39m\"\u001b[39;49m\u001b[39mDatetime\u001b[39;49m\u001b[39m\"\u001b[39;49m]\u001b[39m.\u001b[39;49mmax(),\n\u001b[1;32m    104\u001b[0m                         freq\u001b[39m=\u001b[39;49m\u001b[39m\"\u001b[39;49m\u001b[39m1min\u001b[39;49m\u001b[39m\"\u001b[39;49m,\n\u001b[1;32m    105\u001b[0m                         tz\u001b[39m=\u001b[39;49m\u001b[39m\"\u001b[39;49m\u001b[39mUTC\u001b[39;49m\u001b[39m\"\u001b[39;49m)\n\u001b[1;32m    107\u001b[0m \u001b[39m# Reindex sentiment_df to include all timestamps — then forward-fill\u001b[39;00m\n\u001b[1;32m    108\u001b[0m sentiment_filled \u001b[39m=\u001b[39m sentiment_df\u001b[39m.\u001b[39mset_index(\u001b[39m\"\u001b[39m\u001b[39mDatetime\u001b[39m\u001b[39m\"\u001b[39m)\u001b[39m.\u001b[39mreindex(full_range)\u001b[39m.\u001b[39mffill()\n",
      "File \u001b[0;32m~/Library/Python/3.9/lib/python/site-packages/pandas/core/indexes/datetimes.py:1008\u001b[0m, in \u001b[0;36mdate_range\u001b[0;34m(start, end, periods, freq, tz, normalize, name, inclusive, unit, **kwargs)\u001b[0m\n\u001b[1;32m   1005\u001b[0m \u001b[39mif\u001b[39;00m freq \u001b[39mis\u001b[39;00m \u001b[39mNone\u001b[39;00m \u001b[39mand\u001b[39;00m com\u001b[39m.\u001b[39many_none(periods, start, end):\n\u001b[1;32m   1006\u001b[0m     freq \u001b[39m=\u001b[39m \u001b[39m\"\u001b[39m\u001b[39mD\u001b[39m\u001b[39m\"\u001b[39m\n\u001b[0;32m-> 1008\u001b[0m dtarr \u001b[39m=\u001b[39m DatetimeArray\u001b[39m.\u001b[39;49m_generate_range(\n\u001b[1;32m   1009\u001b[0m     start\u001b[39m=\u001b[39;49mstart,\n\u001b[1;32m   1010\u001b[0m     end\u001b[39m=\u001b[39;49mend,\n\u001b[1;32m   1011\u001b[0m     periods\u001b[39m=\u001b[39;49mperiods,\n\u001b[1;32m   1012\u001b[0m     freq\u001b[39m=\u001b[39;49mfreq,\n\u001b[1;32m   1013\u001b[0m     tz\u001b[39m=\u001b[39;49mtz,\n\u001b[1;32m   1014\u001b[0m     normalize\u001b[39m=\u001b[39;49mnormalize,\n\u001b[1;32m   1015\u001b[0m     inclusive\u001b[39m=\u001b[39;49minclusive,\n\u001b[1;32m   1016\u001b[0m     unit\u001b[39m=\u001b[39;49munit,\n\u001b[1;32m   1017\u001b[0m     \u001b[39m*\u001b[39;49m\u001b[39m*\u001b[39;49mkwargs,\n\u001b[1;32m   1018\u001b[0m )\n\u001b[1;32m   1019\u001b[0m \u001b[39mreturn\u001b[39;00m DatetimeIndex\u001b[39m.\u001b[39m_simple_new(dtarr, name\u001b[39m=\u001b[39mname)\n",
      "File \u001b[0;32m~/Library/Python/3.9/lib/python/site-packages/pandas/core/arrays/datetimes.py:430\u001b[0m, in \u001b[0;36mDatetimeArray._generate_range\u001b[0;34m(cls, start, end, periods, freq, tz, normalize, ambiguous, nonexistent, inclusive, unit)\u001b[0m\n\u001b[1;32m    427\u001b[0m     end \u001b[39m=\u001b[39m Timestamp(end)\n\u001b[1;32m    429\u001b[0m \u001b[39mif\u001b[39;00m start \u001b[39mis\u001b[39;00m NaT \u001b[39mor\u001b[39;00m end \u001b[39mis\u001b[39;00m NaT:\n\u001b[0;32m--> 430\u001b[0m     \u001b[39mraise\u001b[39;00m \u001b[39mValueError\u001b[39;00m(\u001b[39m\"\u001b[39m\u001b[39mNeither `start` nor `end` can be NaT\u001b[39m\u001b[39m\"\u001b[39m)\n\u001b[1;32m    432\u001b[0m \u001b[39mif\u001b[39;00m unit \u001b[39mis\u001b[39;00m \u001b[39mnot\u001b[39;00m \u001b[39mNone\u001b[39;00m:\n\u001b[1;32m    433\u001b[0m     \u001b[39mif\u001b[39;00m unit \u001b[39mnot\u001b[39;00m \u001b[39min\u001b[39;00m [\u001b[39m\"\u001b[39m\u001b[39ms\u001b[39m\u001b[39m\"\u001b[39m, \u001b[39m\"\u001b[39m\u001b[39mms\u001b[39m\u001b[39m\"\u001b[39m, \u001b[39m\"\u001b[39m\u001b[39mus\u001b[39m\u001b[39m\"\u001b[39m, \u001b[39m\"\u001b[39m\u001b[39mns\u001b[39m\u001b[39m\"\u001b[39m]:\n",
      "\u001b[0;31mValueError\u001b[0m: Neither `start` nor `end` can be NaT"
     ]
    },
    {
     "ename": "ValueError",
     "evalue": "Neither `start` nor `end` can be NaT",
     "output_type": "error",
     "traceback": [
      "\u001b[0;31m---------------------------------------------------------------------------\u001b[0m",
      "\u001b[0;31mValueError\u001b[0m                                Traceback (most recent call last)",
      "Cell \u001b[0;32mIn[7], line 4\u001b[0m\n\u001b[1;32m      2\u001b[0m \u001b[39m#%run /Users/natwat/Desktop/CPSC_Projects/Trader/scripts/data_pipeline.py\u001b[39;00m\n\u001b[1;32m      3\u001b[0m get_ipython()\u001b[39m.\u001b[39mrun_line_magic(\u001b[39m'\u001b[39m\u001b[39mrun\u001b[39m\u001b[39m'\u001b[39m, \u001b[39m'\u001b[39m\u001b[39m/Users/natwat/Desktop/CPSC_Projects/Trader/scripts/compute_ema.py\u001b[39m\u001b[39m'\u001b[39m)\n\u001b[0;32m----> 4\u001b[0m get_ipython()\u001b[39m.\u001b[39;49mrun_line_magic(\u001b[39m'\u001b[39;49m\u001b[39mrun\u001b[39;49m\u001b[39m'\u001b[39;49m, \u001b[39m'\u001b[39;49m\u001b[39m/Users/natwat/Desktop/CPSC_Projects/Trader/scripts/FeelManager.ipynb\u001b[39;49m\u001b[39m'\u001b[39;49m)\n",
      "File \u001b[0;32m~/Library/Python/3.9/lib/python/site-packages/IPython/core/interactiveshell.py:2456\u001b[0m, in \u001b[0;36mInteractiveShell.run_line_magic\u001b[0;34m(self, magic_name, line, _stack_depth)\u001b[0m\n\u001b[1;32m   2454\u001b[0m     kwargs[\u001b[39m'\u001b[39m\u001b[39mlocal_ns\u001b[39m\u001b[39m'\u001b[39m] \u001b[39m=\u001b[39m \u001b[39mself\u001b[39m\u001b[39m.\u001b[39mget_local_scope(stack_depth)\n\u001b[1;32m   2455\u001b[0m \u001b[39mwith\u001b[39;00m \u001b[39mself\u001b[39m\u001b[39m.\u001b[39mbuiltin_trap:\n\u001b[0;32m-> 2456\u001b[0m     result \u001b[39m=\u001b[39m fn(\u001b[39m*\u001b[39;49margs, \u001b[39m*\u001b[39;49m\u001b[39m*\u001b[39;49mkwargs)\n\u001b[1;32m   2458\u001b[0m \u001b[39m# The code below prevents the output from being displayed\u001b[39;00m\n\u001b[1;32m   2459\u001b[0m \u001b[39m# when using magics with decorator @output_can_be_silenced\u001b[39;00m\n\u001b[1;32m   2460\u001b[0m \u001b[39m# when the last Python token in the expression is a ';'.\u001b[39;00m\n\u001b[1;32m   2461\u001b[0m \u001b[39mif\u001b[39;00m \u001b[39mgetattr\u001b[39m(fn, magic\u001b[39m.\u001b[39mMAGIC_OUTPUT_CAN_BE_SILENCED, \u001b[39mFalse\u001b[39;00m):\n",
      "File \u001b[0;32m~/Library/Python/3.9/lib/python/site-packages/IPython/core/magics/execution.py:737\u001b[0m, in \u001b[0;36mExecutionMagics.run\u001b[0;34m(self, parameter_s, runner, file_finder)\u001b[0m\n\u001b[1;32m    735\u001b[0m     \u001b[39mwith\u001b[39;00m preserve_keys(\u001b[39mself\u001b[39m\u001b[39m.\u001b[39mshell\u001b[39m.\u001b[39muser_ns, \u001b[39m'\u001b[39m\u001b[39m__file__\u001b[39m\u001b[39m'\u001b[39m):\n\u001b[1;32m    736\u001b[0m         \u001b[39mself\u001b[39m\u001b[39m.\u001b[39mshell\u001b[39m.\u001b[39muser_ns[\u001b[39m'\u001b[39m\u001b[39m__file__\u001b[39m\u001b[39m'\u001b[39m] \u001b[39m=\u001b[39m filename\n\u001b[0;32m--> 737\u001b[0m         \u001b[39mself\u001b[39;49m\u001b[39m.\u001b[39;49mshell\u001b[39m.\u001b[39;49msafe_execfile_ipy(filename, raise_exceptions\u001b[39m=\u001b[39;49m\u001b[39mTrue\u001b[39;49;00m)\n\u001b[1;32m    738\u001b[0m     \u001b[39mreturn\u001b[39;00m\n\u001b[1;32m    740\u001b[0m \u001b[39m# Control the response to exit() calls made by the script being run\u001b[39;00m\n",
      "File \u001b[0;32m~/Library/Python/3.9/lib/python/site-packages/IPython/core/interactiveshell.py:2978\u001b[0m, in \u001b[0;36mInteractiveShell.safe_execfile_ipy\u001b[0;34m(self, fname, shell_futures, raise_exceptions)\u001b[0m\n\u001b[1;32m   2976\u001b[0m result \u001b[39m=\u001b[39m \u001b[39mself\u001b[39m\u001b[39m.\u001b[39mrun_cell(cell, silent\u001b[39m=\u001b[39m\u001b[39mTrue\u001b[39;00m, shell_futures\u001b[39m=\u001b[39mshell_futures)\n\u001b[1;32m   2977\u001b[0m \u001b[39mif\u001b[39;00m raise_exceptions:\n\u001b[0;32m-> 2978\u001b[0m     result\u001b[39m.\u001b[39;49mraise_error()\n\u001b[1;32m   2979\u001b[0m \u001b[39melif\u001b[39;00m \u001b[39mnot\u001b[39;00m result\u001b[39m.\u001b[39msuccess:\n\u001b[1;32m   2980\u001b[0m     \u001b[39mbreak\u001b[39;00m\n",
      "File \u001b[0;32m~/Library/Python/3.9/lib/python/site-packages/IPython/core/interactiveshell.py:294\u001b[0m, in \u001b[0;36mExecutionResult.raise_error\u001b[0;34m(self)\u001b[0m\n\u001b[1;32m    292\u001b[0m     \u001b[39mraise\u001b[39;00m \u001b[39mself\u001b[39m\u001b[39m.\u001b[39merror_before_exec\n\u001b[1;32m    293\u001b[0m \u001b[39mif\u001b[39;00m \u001b[39mself\u001b[39m\u001b[39m.\u001b[39merror_in_exec \u001b[39mis\u001b[39;00m \u001b[39mnot\u001b[39;00m \u001b[39mNone\u001b[39;00m:\n\u001b[0;32m--> 294\u001b[0m     \u001b[39mraise\u001b[39;00m \u001b[39mself\u001b[39m\u001b[39m.\u001b[39merror_in_exec\n",
      "    \u001b[0;31m[... skipping hidden 1 frame]\u001b[0m\n",
      "File \u001b[0;32m/var/folders/d8/thlb33gs6m703zd_wdqqkmlr0000gn/T/ipykernel_77231/3991607127.py:10\u001b[0m\n\u001b[1;32m      7\u001b[0m     last_ts \u001b[39m=\u001b[39m \u001b[39mNone\u001b[39;00m\n\u001b[1;32m      9\u001b[0m \u001b[39m# Run the updated merge\u001b[39;00m\n\u001b[0;32m---> 10\u001b[0m merge_with_price_incremental(sentiment_df, price_path, output_path, last_timestamp\u001b[39m=\u001b[39;49mlast_ts)\n\u001b[1;32m     12\u001b[0m \u001b[39m# View output\u001b[39;00m\n\u001b[1;32m     13\u001b[0m df \u001b[39m=\u001b[39m pd\u001b[39m.\u001b[39mread_csv(output_path)\n",
      "File \u001b[0;32m~/Desktop/CPSC_Projects/Trader/scripts/combineSingleDB.py:102\u001b[0m, in \u001b[0;36mmerge_with_price_incremental\u001b[0;34m(sentiment_df, price_path, output_path, last_timestamp)\u001b[0m\n\u001b[1;32m     99\u001b[0m     \u001b[39mprint\u001b[39m(\u001b[39m\"\u001b[39m\u001b[39m⏸️ No new price data to merge.\u001b[39m\u001b[39m\"\u001b[39m)\n\u001b[1;32m    101\u001b[0m     \u001b[39m# Create full timestamp range based on price_df\u001b[39;00m\n\u001b[0;32m--> 102\u001b[0m full_range \u001b[39m=\u001b[39m pd\u001b[39m.\u001b[39;49mdate_range(start\u001b[39m=\u001b[39;49mprice_df[\u001b[39m\"\u001b[39;49m\u001b[39mDatetime\u001b[39;49m\u001b[39m\"\u001b[39;49m]\u001b[39m.\u001b[39;49mmin(),\n\u001b[1;32m    103\u001b[0m                         end\u001b[39m=\u001b[39;49mprice_df[\u001b[39m\"\u001b[39;49m\u001b[39mDatetime\u001b[39;49m\u001b[39m\"\u001b[39;49m]\u001b[39m.\u001b[39;49mmax(),\n\u001b[1;32m    104\u001b[0m                         freq\u001b[39m=\u001b[39;49m\u001b[39m\"\u001b[39;49m\u001b[39m1min\u001b[39;49m\u001b[39m\"\u001b[39;49m,\n\u001b[1;32m    105\u001b[0m                         tz\u001b[39m=\u001b[39;49m\u001b[39m\"\u001b[39;49m\u001b[39mUTC\u001b[39;49m\u001b[39m\"\u001b[39;49m)\n\u001b[1;32m    107\u001b[0m \u001b[39m# Reindex sentiment_df to include all timestamps — then forward-fill\u001b[39;00m\n\u001b[1;32m    108\u001b[0m sentiment_filled \u001b[39m=\u001b[39m sentiment_df\u001b[39m.\u001b[39mset_index(\u001b[39m\"\u001b[39m\u001b[39mDatetime\u001b[39m\u001b[39m\"\u001b[39m)\u001b[39m.\u001b[39mreindex(full_range)\u001b[39m.\u001b[39mffill()\n",
      "File \u001b[0;32m~/Library/Python/3.9/lib/python/site-packages/pandas/core/indexes/datetimes.py:1008\u001b[0m, in \u001b[0;36mdate_range\u001b[0;34m(start, end, periods, freq, tz, normalize, name, inclusive, unit, **kwargs)\u001b[0m\n\u001b[1;32m   1005\u001b[0m \u001b[39mif\u001b[39;00m freq \u001b[39mis\u001b[39;00m \u001b[39mNone\u001b[39;00m \u001b[39mand\u001b[39;00m com\u001b[39m.\u001b[39many_none(periods, start, end):\n\u001b[1;32m   1006\u001b[0m     freq \u001b[39m=\u001b[39m \u001b[39m\"\u001b[39m\u001b[39mD\u001b[39m\u001b[39m\"\u001b[39m\n\u001b[0;32m-> 1008\u001b[0m dtarr \u001b[39m=\u001b[39m DatetimeArray\u001b[39m.\u001b[39;49m_generate_range(\n\u001b[1;32m   1009\u001b[0m     start\u001b[39m=\u001b[39;49mstart,\n\u001b[1;32m   1010\u001b[0m     end\u001b[39m=\u001b[39;49mend,\n\u001b[1;32m   1011\u001b[0m     periods\u001b[39m=\u001b[39;49mperiods,\n\u001b[1;32m   1012\u001b[0m     freq\u001b[39m=\u001b[39;49mfreq,\n\u001b[1;32m   1013\u001b[0m     tz\u001b[39m=\u001b[39;49mtz,\n\u001b[1;32m   1014\u001b[0m     normalize\u001b[39m=\u001b[39;49mnormalize,\n\u001b[1;32m   1015\u001b[0m     inclusive\u001b[39m=\u001b[39;49minclusive,\n\u001b[1;32m   1016\u001b[0m     unit\u001b[39m=\u001b[39;49munit,\n\u001b[1;32m   1017\u001b[0m     \u001b[39m*\u001b[39;49m\u001b[39m*\u001b[39;49mkwargs,\n\u001b[1;32m   1018\u001b[0m )\n\u001b[1;32m   1019\u001b[0m \u001b[39mreturn\u001b[39;00m DatetimeIndex\u001b[39m.\u001b[39m_simple_new(dtarr, name\u001b[39m=\u001b[39mname)\n",
      "File \u001b[0;32m~/Library/Python/3.9/lib/python/site-packages/pandas/core/arrays/datetimes.py:430\u001b[0m, in \u001b[0;36mDatetimeArray._generate_range\u001b[0;34m(cls, start, end, periods, freq, tz, normalize, ambiguous, nonexistent, inclusive, unit)\u001b[0m\n\u001b[1;32m    427\u001b[0m     end \u001b[39m=\u001b[39m Timestamp(end)\n\u001b[1;32m    429\u001b[0m \u001b[39mif\u001b[39;00m start \u001b[39mis\u001b[39;00m NaT \u001b[39mor\u001b[39;00m end \u001b[39mis\u001b[39;00m NaT:\n\u001b[0;32m--> 430\u001b[0m     \u001b[39mraise\u001b[39;00m \u001b[39mValueError\u001b[39;00m(\u001b[39m\"\u001b[39m\u001b[39mNeither `start` nor `end` can be NaT\u001b[39m\u001b[39m\"\u001b[39m)\n\u001b[1;32m    432\u001b[0m \u001b[39mif\u001b[39;00m unit \u001b[39mis\u001b[39;00m \u001b[39mnot\u001b[39;00m \u001b[39mNone\u001b[39;00m:\n\u001b[1;32m    433\u001b[0m     \u001b[39mif\u001b[39;00m unit \u001b[39mnot\u001b[39;00m \u001b[39min\u001b[39;00m [\u001b[39m\"\u001b[39m\u001b[39ms\u001b[39m\u001b[39m\"\u001b[39m, \u001b[39m\"\u001b[39m\u001b[39mms\u001b[39m\u001b[39m\"\u001b[39m, \u001b[39m\"\u001b[39m\u001b[39mus\u001b[39m\u001b[39m\"\u001b[39m, \u001b[39m\"\u001b[39m\u001b[39mns\u001b[39m\u001b[39m\"\u001b[39m]:\n",
      "\u001b[0;31mValueError\u001b[0m: Neither `start` nor `end` can be NaT"
     ]
    }
   ],
   "source": [
    "%run /Users/natwat/Desktop/CPSC_Projects/Trader/scripts/dowload_data.py\n",
    "#%run /Users/natwat/Desktop/CPSC_Projects/Trader/scripts/data_pipeline.py\n",
    "%run /Users/natwat/Desktop/CPSC_Projects/Trader/scripts/compute_ema.py\n",
    "%run /Users/natwat/Desktop/CPSC_Projects/Trader/scripts/FeelManager.ipynb\n"
   ]
  }
 ],
 "metadata": {
  "kernelspec": {
   "display_name": "Python 3",
   "language": "python",
   "name": "python3"
  },
  "language_info": {
   "codemirror_mode": {
    "name": "ipython",
    "version": 3
   },
   "file_extension": ".py",
   "mimetype": "text/x-python",
   "name": "python",
   "nbconvert_exporter": "python",
   "pygments_lexer": "ipython3",
   "version": "3.9.6"
  }
 },
 "nbformat": 4,
 "nbformat_minor": 2
}
