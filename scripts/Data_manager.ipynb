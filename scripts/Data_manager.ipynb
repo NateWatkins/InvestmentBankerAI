{
 "cells": [
  {
   "cell_type": "code",
   "execution_count": null,
   "metadata": {
    "execution": {
     "iopub.execute_input": "2025-06-16T20:09:59.974191Z",
     "iopub.status.busy": "2025-06-16T20:09:59.973674Z",
     "iopub.status.idle": "2025-06-16T20:10:00.291257Z",
     "shell.execute_reply": "2025-06-16T20:10:00.290899Z"
    }
   },
   "outputs": [],
   "source": "import sys\nimport os\nimport pandas as pd\n\n# Add project root to path for config import\nsys.path.append(os.path.dirname(os.path.dirname(os.path.abspath('__file__'))))\nfrom config import get_ticker, get_paths, Config\n\n# Get current configuration\nTICKER = get_ticker()\nPATHS = get_paths()\nPROJECT_ROOT = Config.PROJECT_ROOT\nRAW_DIR = os.path.dirname(PATHS[\"raw_csv\"])"
  },
  {
   "cell_type": "code",
   "execution_count": null,
   "metadata": {
    "execution": {
     "iopub.execute_input": "2025-06-16T20:10:00.292955Z",
     "iopub.status.busy": "2025-06-16T20:10:00.292799Z",
     "iopub.status.idle": "2025-06-16T20:10:00.436263Z",
     "shell.execute_reply": "2025-06-16T20:10:00.436001Z"
    }
   },
   "outputs": [],
   "source": "import sys\nsys.path.append(os.path.join(PROJECT_ROOT, \"scripts\"))\n\nfrom dowload_data import download_1min_bars\nfrom compute_ema import compute_ema\nfrom combineSingleDB import load_and_aggregate_sentiment \nfrom aggregate_sent import aggregate_sentiment_by_minute"
  },
  {
   "cell_type": "code",
   "execution_count": null,
   "metadata": {
    "execution": {
     "iopub.execute_input": "2025-06-16T20:10:00.437754Z",
     "iopub.status.busy": "2025-06-16T20:10:00.437608Z",
     "iopub.status.idle": "2025-06-16T20:10:17.447769Z",
     "shell.execute_reply": "2025-06-16T20:10:17.446403Z"
    }
   },
   "outputs": [],
   "source": "%run $PROJECT_ROOT/scripts/FH_getSent.py"
  },
  {
   "cell_type": "code",
   "execution_count": null,
   "metadata": {
    "execution": {
     "iopub.execute_input": "2025-06-16T20:10:17.458918Z",
     "iopub.status.busy": "2025-06-16T20:10:17.458735Z",
     "iopub.status.idle": "2025-06-16T20:10:18.385076Z",
     "shell.execute_reply": "2025-06-16T20:10:18.384604Z"
    }
   },
   "outputs": [],
   "source": "%run $PROJECT_ROOT/scripts/dowload_data.py\n%run $PROJECT_ROOT/scripts/compute_ema.py  ##---> This gives features.csv \n\n%run $PROJECT_ROOT/scripts/FeelManager.ipynb ##---> Gives ready.csv"
  },
  {
   "cell_type": "code",
   "execution_count": null,
   "metadata": {},
   "outputs": [],
   "source": []
  }
 ],
 "metadata": {
  "kernelspec": {
   "display_name": "Python 3",
   "language": "python",
   "name": "python3"
  },
  "language_info": {
   "codemirror_mode": {
    "name": "ipython",
    "version": 3
   },
   "file_extension": ".py",
   "mimetype": "text/x-python",
   "name": "python",
   "nbconvert_exporter": "python",
   "pygments_lexer": "ipython3",
   "version": "3.9.6"
  }
 },
 "nbformat": 4,
 "nbformat_minor": 2
}